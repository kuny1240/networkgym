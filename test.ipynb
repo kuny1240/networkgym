{
 "cells": [
  {
   "cell_type": "code",
   "execution_count": 3,
   "metadata": {},
   "outputs": [
    {
     "data": {
      "text/plain": [
       "'/home/lican/workarea/Kun/NetworkSlicing_Agent_test/networkgym'"
      ]
     },
     "execution_count": 3,
     "metadata": {},
     "output_type": "execute_result"
    }
   ],
   "source": [
    "import h5py\n",
    "from utils.utils import *\n",
    "from utils.buffer import ReplayBuffer\n",
    "import os\n",
    "\n",
    "buffer = ReplayBuffer(int(1e6), int(15), int(2))\n",
    "\n",
    "# Path: utils/buffer.py\n",
    "os.path.abspath(os.getcwd())\n",
    "filepath = '/dataset/offline_data_heavy_traffic_ver2.h5'\n",
    "# # filepath = '/datasets/offline_data_heavy_traffic_ver2.h5'\n",
    "buffer.load_buffer(filepath)\n"
   ]
  }
 ],
 "metadata": {
  "kernelspec": {
   "display_name": "venv",
   "language": "python",
   "name": "python3"
  },
  "language_info": {
   "codemirror_mode": {
    "name": "ipython",
    "version": 3
   },
   "file_extension": ".py",
   "mimetype": "text/x-python",
   "name": "python",
   "nbconvert_exporter": "python",
   "pygments_lexer": "ipython3",
   "version": "3.10.12"
  },
  "orig_nbformat": 4
 },
 "nbformat": 4,
 "nbformat_minor": 2
}
