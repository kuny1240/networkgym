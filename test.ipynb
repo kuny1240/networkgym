{
 "cells": [
  {
   "cell_type": "code",
   "execution_count": null,
   "metadata": {},
   "outputs": [],
   "source": [
    "import h5py\n",
    "from utils.utils import *\n",
    "from utils.buffer import ReplayBuffer\n",
    "import os\n",
    "\n",
    "buffer = ReplayBuffer(int(1e6), int(15), int(2))\n",
    "\n",
    "# Path: utils/buffer.py\n",
    "os.path.abspath(os.getcwd())\n",
    "filepath = './dataset/sac_ver2_buffer.h5'\n",
    "rawpath = './dataset/sac_ver2_raw_data.h5'\n",
    "# # filepath = '/datasets/offline_data_heavy_traffic_ver2.h5'\n",
    "buffer.load_raw_data(rawpath)\n",
    "buffer.load_buffer(filepath)\n",
    "\n"
   ]
  },
  {
   "cell_type": "code",
   "execution_count": null,
   "metadata": {},
   "outputs": [
    {
     "name": "stdout",
     "output_type": "stream",
     "text": [
      "[0.00000000e+00 2.98023224e-08]\n",
      "[ 0.00000000e+00 -2.98023224e-08]\n",
      "[0.00000000e+00 5.96046448e-08]\n",
      "[-5.96046448e-08  0.00000000e+00]\n",
      "[ 0.00000000e+00 -2.98023224e-08]\n",
      "[-5.96046448e-08  0.00000000e+00]\n",
      "[-5.96046448e-08  2.98023224e-08]\n",
      "[ 0.00000000e+00 -2.98023224e-08]\n",
      "[5.96046448e-08 0.00000000e+00]\n",
      "[-5.96046448e-08  0.00000000e+00]\n",
      "[0.00000000e+00 2.98023224e-08]\n",
      "[-5.96046448e-08  0.00000000e+00]\n",
      "[5.96046448e-08 0.00000000e+00]\n",
      "[0.00000000e+00 2.98023224e-08]\n",
      "[ 0.00000000e+00 -2.98023224e-08]\n",
      "[ 0.00000000e+00 -2.98023224e-08]\n",
      "[0.00000000e+00 5.96046448e-08]\n",
      "[0.00000000e+00 2.98023224e-08]\n",
      "[5.96046448e-08 0.00000000e+00]\n",
      "[ 0.00000000e+00 -5.96046448e-08]\n",
      "[ 0.00000000e+00 -5.96046448e-08]\n",
      "[-2.98023224e-08  0.00000000e+00]\n",
      "[ 0.00000000e+00 -2.98023224e-08]\n",
      "[-5.96046448e-08 -2.98023224e-08]\n",
      "[0.00000000e+00 2.98023224e-08]\n",
      "[0.00000000e+00 2.98023224e-08]\n",
      "[0.00000000e+00 2.98023224e-08]\n",
      "[0.00000000e+00 5.96046448e-08]\n",
      "[-5.96046448e-08  0.00000000e+00]\n",
      "[ 0.00000000e+00 -2.98023224e-08]\n",
      "[0.00000000e+00 2.98023224e-08]\n",
      "[ 0.00000000e+00 -2.98023224e-08]\n",
      "[ 2.98023224e-08 -5.96046448e-08]\n",
      "[ 5.96046448e-08 -5.96046448e-08]\n",
      "[ 5.96046448e-08 -5.96046448e-08]\n",
      "[-5.96046448e-08 -2.98023224e-08]\n",
      "[ 0.00000000e+00 -2.98023224e-08]\n",
      "[ 0.00000000e+00 -5.96046448e-08]\n",
      "[ 0.00000000e+00 -2.98023224e-08]\n",
      "[-5.96046448e-08  2.98023224e-08]\n",
      "[5.96046448e-08 2.98023224e-08]\n",
      "[ 0.00000000e+00 -5.96046448e-08]\n",
      "[ 0.00000000e+00 -2.98023224e-08]\n",
      "[ 5.96046448e-08 -5.96046448e-08]\n",
      "[ 0.00000000e+00 -2.98023224e-08]\n",
      "[ 0.00000000e+00 -5.96046448e-08]\n",
      "[ 0.00000000e+00 -2.98023224e-08]\n",
      "[ 0.00000000e+00 -5.96046448e-08]\n",
      "[ 0.00000000e+00 -2.98023224e-08]\n",
      "[-5.96046448e-08  5.96046448e-08]\n",
      "[0.00000000e+00 2.98023224e-08]\n",
      "[2.98023224e-08 5.96046448e-08]\n",
      "[1.1920929e-07 0.0000000e+00]\n",
      "[-5.96046448e-08  2.98023224e-08]\n",
      "[-5.96046448e-08  0.00000000e+00]\n",
      "[0.00000000e+00 2.98023224e-08]\n",
      "[ 0.00000000e+00 -5.96046448e-08]\n",
      "[ 0.00000000e+00 -2.98023224e-08]\n",
      "[0.00000000e+00 2.98023224e-08]\n",
      "[0.00000000e+00 2.98023224e-08]\n",
      "[5.96046448e-08 0.00000000e+00]\n",
      "[-5.96046448e-08  2.98023224e-08]\n",
      "[0.00000000e+00 2.98023224e-08]\n",
      "[ 5.96046448e-08 -2.98023224e-08]\n",
      "[ 0.00000000e+00 -5.96046448e-08]\n",
      "[-5.96046448e-08  0.00000000e+00]\n",
      "[ 0.00000000e+00 -5.96046448e-08]\n",
      "[0.00000000e+00 2.98023224e-08]\n",
      "[-5.96046448e-08  0.00000000e+00]\n",
      "[-5.96046448e-08  5.96046448e-08]\n",
      "[ 0.00000000e+00 -2.98023224e-08]\n",
      "[ 0.00000000e+00 -5.96046448e-08]\n",
      "[ 0.00000000e+00 -2.98023224e-08]\n",
      "[0.00000000e+00 2.98023224e-08]\n",
      "[-1.1920929e-07  0.0000000e+00]\n",
      "[ 0.00000000e+00 -2.98023224e-08]\n",
      "[-5.96046448e-08 -5.96046448e-08]\n",
      "[ 0.00000000e+00 -2.98023224e-08]\n",
      "[5.96046448e-08 0.00000000e+00]\n",
      "[-5.96046448e-08  0.00000000e+00]\n",
      "[ 0.00000000e+00 -2.98023224e-08]\n",
      "[0.00000000e+00 2.98023224e-08]\n",
      "[5.96046448e-08 0.00000000e+00]\n",
      "[0.00000000e+00 2.98023224e-08]\n",
      "[0.00000000e+00 5.96046448e-08]\n",
      "[5.96046448e-08 0.00000000e+00]\n",
      "[ 0.00000000e+00 -2.98023224e-08]\n",
      "[ 0.00000000e+00 -2.98023224e-08]\n",
      "[0.00000000e+00 5.96046448e-08]\n",
      "[5.96046448e-08 0.00000000e+00]\n",
      "[5.96046448e-08 0.00000000e+00]\n",
      "[ 5.96046448e-08 -5.96046448e-08]\n",
      "[ 0.00000000e+00 -5.96046448e-08]\n"
     ]
    }
   ],
   "source": [
    "import h5py\n",
    "# from utils.utils import *\n",
    "# from utils.buffer import ReplayBuffer\n",
    "from CleanRL_agents import SACAgent\n",
    "from CQL_agent import ContinuousCQL as CQL\n",
    "import numpy as np\n",
    "import os\n",
    "\n",
    "# buffer = ReplayBuffer(int(1e6), int(15), int(2))\n",
    "\n",
    "# Path: utils/buffer.py\n",
    "os.path.abspath(os.getcwd())\n",
    "filepath = './dataset/sac_ver2_buffer.h5'\n",
    "rawpath = './dataset/sac_ver2_raw_data.h5'\n",
    "# # filepath = '/datasets/offline_data_heavy_traffic_ver2.h5'\n",
    "# sac_agent = SACAgent(state_dim=15, \n",
    "#                                     action_dim=2, \n",
    "#                                     hidden_dim=64,\n",
    "#                                     actor_lr=0.003, \n",
    "#                                     critic_lr=0.03,\n",
    "#                                     action_high=1,\n",
    "#                                     action_low=0,\n",
    "#                                     device='cpu')\n",
    "# sac_agent.load(\"./models/sac_model_3_weighted_1240_best.ckpt\")\n",
    "# sac_agent.actor.eval()\n",
    "agent = CQL(state_dim=15, action_dim=2, hidden_dim=64, target_entropy=-2,\n",
    "                            q_n_hidden_layers=1, max_action=1, qf_lr=3e-4, policy_lr=6e-5,device=\"cuda:0\")\n",
    "agent.load(\"./models/cql_dataset_sac_best.pt\")\n",
    "agent.actor.eval()\n",
    "# Open the file in read-only mode\n",
    "\n",
    "with h5py.File(filepath, 'r') as f:\n",
    "    # List all groups/datasets in the file\n",
    "        \n",
    "    # Load a specific dataset from the file\n",
    "    actions = f[\"actions\"][:]\n",
    "    states = f[\"states\"][:]\n",
    "\n",
    "with h5py.File(rawpath, 'r') as f:\n",
    "    # List all groups/datasets in the file\n",
    "        \n",
    "    # Load a specific dataset from the file\n",
    "    raw_loads = f[\"loads\"][:]\n",
    "    raw_maxrates = f[\"max_rates\"][:]\n",
    "    raw_rates = f[\"rates\"][:]\n",
    "    raw_dvr = f[\"delay_violation_rates\"][:]\n",
    "    raw_rb_usages = f[\"rb_usages\"][:]\n",
    "    raw_owd = f[\"one_way_delays\"][:]\n",
    "\n",
    "\n",
    "num = len(states)\n",
    "for i in range(num):\n",
    "    action = actions[i]\n",
    "    # action = np.round(action) * 25\n",
    "    state = states[i]\n",
    "    slice_num = len(raw_maxrates[i])\n",
    "    obs = np.zeros((5, slice_num))\n",
    "    max_rate = np.min(raw_maxrates[i])\n",
    "    for j in range(slice_num):\n",
    "            # breakpoint()\n",
    "        obs_slice = np.array([raw_rates[i][j]/raw_loads[i][j],\n",
    "                              raw_loads[i][j]/max_rate,\n",
    "                              raw_rb_usages[i][j]/100,\n",
    "                              raw_dvr[i][j]/100,\n",
    "                              raw_owd[i][j]/1000])\n",
    "        obs[:, j] = obs_slice\n",
    "    obs = obs.flatten()\n",
    "    raw_action = sac_agent.predict(obs,device='cpu')\n",
    "    raw_action = np.exp(raw_action)/np.sum(np.exp(raw_action))\n",
    "    # raw_action = np.round(raw_action) * 25\n",
    "    max_diff = 0\n",
    "    if (action - raw_action != 0).any():\n",
    "        max_diff = np.max(np.max(np.abs(action - raw_action)), max_diff)\n",
    "        \n",
    "    print(max_diff)\n",
    "    if (np.abs((state - obs)) > 1e-6).any():\n",
    "        print(state - obs)"
   ]
  },
  {
   "cell_type": "code",
   "execution_count": null,
   "metadata": {},
   "outputs": [],
   "source": []
  },
  {
   "cell_type": "code",
   "execution_count": null,
   "metadata": {},
   "outputs": [],
   "source": [
    "l"
   ]
  },
  {
   "cell_type": "code",
   "execution_count": 5,
   "metadata": {},
   "outputs": [],
   "source": [
    "states, actions, rewards, states_, dones = test"
   ]
  },
  {
   "cell_type": "code",
   "execution_count": 6,
   "metadata": {},
   "outputs": [
    {
     "data": {
      "text/plain": [
       "0.2786155615323978"
      ]
     },
     "execution_count": 6,
     "metadata": {},
     "output_type": "execute_result"
    }
   ],
   "source": [
    "states[0][6] / (states[0][1] + states[0][6])"
   ]
  },
  {
   "cell_type": "code",
   "execution_count": 7,
   "metadata": {},
   "outputs": [
    {
     "data": {
      "text/plain": [
       "array([-0.605739  , -1.66780482, -1.45133637, -1.11356125, -1.24337744,\n",
       "       -1.29013817, -0.65245823, -0.4629077 , -1.16882301, -1.17848754,\n",
       "       -1.01194027, -1.48393406, -1.36285477, -1.33113701, -1.26441932])"
      ]
     },
     "execution_count": 7,
     "metadata": {},
     "output_type": "execute_result"
    }
   ],
   "source": [
    "rewards"
   ]
  },
  {
   "cell_type": "code",
   "execution_count": 9,
   "metadata": {},
   "outputs": [
    {
     "data": {
      "text/plain": [
       "array([0.2908839 , 0.56606972])"
      ]
     },
     "execution_count": 9,
     "metadata": {},
     "output_type": "execute_result"
    }
   ],
   "source": [
    "actions[0]"
   ]
  },
  {
   "cell_type": "code",
   "execution_count": 3,
   "metadata": {},
   "outputs": [
    {
     "data": {
      "text/plain": [
       "1475"
      ]
     },
     "execution_count": 3,
     "metadata": {},
     "output_type": "execute_result"
    }
   ],
   "source": [
    "buffer.mem_cntr"
   ]
  },
  {
   "cell_type": "code",
   "execution_count": 12,
   "metadata": {},
   "outputs": [
    {
     "data": {
      "image/png": "[encoded data removed]",
      "text/plain": [
       "<Figure size 1152x864 with 1 Axes>"
      ]
     },
     "metadata": {
      "needs_background": "light"
     },
     "output_type": "display_data"
    }
   ],
   "source": [
    "import matplotlib.pyplot as plt\n",
    "import random\n",
    "import numpy as np\n",
    "\n",
    "\n",
    "\n",
    "# Define the new grid size\n",
    "rows = 12  # Resource Blocks\n",
    "cols = 16  # Time steps\n",
    "\n",
    "# Initialize the new grid with zeros (not allocated)\n",
    "new_grid = np.zeros((rows, cols), dtype=int)\n",
    "\n",
    "# Populate the new grid randomly with slices while ensuring that same colors stay together \n",
    "# and are in the order: white > blue > yellow > red, for each time slot.\n",
    "for col in range(cols):\n",
    "    # Randomly decide the number of blocks for each slice and not allocated in this time slot\n",
    "    white_blocks = random.randint(0, rows // 2)\n",
    "    blue_blocks = random.randint(0, rows - white_blocks)\n",
    "    yellow_blocks = random.randint(0, rows - white_blocks - blue_blocks)\n",
    "    red_blocks = rows - white_blocks - blue_blocks - yellow_blocks\n",
    "    \n",
    "    # Assign the blocks to each slice and not allocated in the specified order\n",
    "    new_grid[:white_blocks, col] = 0  # Not allocated\n",
    "    new_grid[white_blocks:white_blocks + blue_blocks, col] = 1  # Slice 1\n",
    "    new_grid[white_blocks + blue_blocks:white_blocks + blue_blocks + yellow_blocks, col] = 2  # Slice 2\n",
    "    new_grid[white_blocks + blue_blocks + yellow_blocks:, col] = 3  # Slice 3\n",
    "\n",
    "\n",
    "\n",
    "# Correct the color mapping\n",
    "corrected_cmap = plt.cm.colors.ListedColormap(['white', '#FFD166', '#118AB2', '#06D6A0'])\n",
    "\n",
    "# Create the corrected figure and axis again\n",
    "fig, ax = plt.subplots(figsize=(16, 12))\n",
    "\n",
    "# Plot the corrected grid with the corrected color map\n",
    "cax = ax.matshow(new_grid, cmap=corrected_cmap)\n",
    "ax.set_xticks(np.arange(-.5, cols, 1), minor=True)\n",
    "ax.set_yticks(np.arange(-.5, rows, 1), minor=True)\n",
    "ax.grid(which=\"minor\", color=\"w\", linestyle='-', linewidth=2)\n",
    "ax.tick_params(which=\"minor\", size=0)\n",
    "\n",
    "# Remove the x-axis and y-axis labels\n",
    "ax.set_xlabel(\"time\", fontdict={'fontsize': 24, 'fontweight': 'medium'})\n",
    "ax.set_ylabel(\"resource blocks\", fontdict={'fontsize': 24, 'fontweight': 'medium'})\n",
    "ax.set_facecolor(None)\n",
    "\n",
    "# Add color bar with labels\n",
    "# cbar = plt.colorbar(cax, ticks=[0.375, 1.125, 1.875, 2.625])\n",
    "# cbar.ax.set_yticklabels(['Not Allocated', 'Slice 1', 'Slice 2', 'Slice 3'])\n",
    "\n",
    "plt.show()\n"
   ]
  }
 ],
 "metadata": {
  "kernelspec": {
   "display_name": "venv",
   "language": "python",
   "name": "python3"
  },
  "language_info": {
   "codemirror_mode": {
    "name": "ipython",
    "version": 3
   },
   "file_extension": ".py",
   "mimetype": "text/x-python",
   "name": "python",
   "nbconvert_exporter": "python",
   "pygments_lexer": "ipython3",
   "version": "3.10.12"
  },
  "orig_nbformat": 4
 },
 "nbformat": 4,
 "nbformat_minor": 2
}
